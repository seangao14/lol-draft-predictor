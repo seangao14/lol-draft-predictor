{
 "cells": [
  {
   "cell_type": "code",
   "execution_count": 1,
   "metadata": {},
   "outputs": [],
   "source": [
    "import numpy as np\n",
    "from sklearn.model_selection import train_test_split"
   ]
  },
  {
   "cell_type": "code",
   "execution_count": 2,
   "metadata": {},
   "outputs": [],
   "source": [
    "X = np.load('data/games_ar.npy', allow_pickle=True)\n",
    "y = np.load('data/winner.npy', allow_pickle=True)"
   ]
  },
  {
   "cell_type": "code",
   "execution_count": 3,
   "metadata": {},
   "outputs": [],
   "source": [
    "train_X, test_X, train_y, test_y = train_test_split(X, y, test_size=0.2)"
   ]
  },
  {
   "cell_type": "code",
   "execution_count": 4,
   "metadata": {},
   "outputs": [],
   "source": [
    "# traditional machine learning\n",
    "\n",
    "from sklearn.metrics import log_loss\n",
    "from sklearn.metrics import accuracy_score\n",
    "\n",
    "def print_score(clf, X, y, train=True):\n",
    "    pred = clf.predict(X)\n",
    "    print(\"Training Score:\" if train else \"Testing Score:\")\n",
    "    print(f\"Log Loss: {log_loss(y, pred)}\")\n",
    "    print(f\"Accuracy: {accuracy_score(y, pred)}\")"
   ]
  },
  {
   "cell_type": "code",
   "execution_count": 5,
   "metadata": {},
   "outputs": [
    {
     "name": "stdout",
     "output_type": "stream",
     "text": [
      "Training Score:\n",
      "Log Loss: 10.638629976495064\n",
      "Accuracy: 0.6919831223628692\n",
      "Testing Score:\n",
      "Log Loss: 17.792883371882684\n",
      "Accuracy: 0.48484848484848486\n"
     ]
    }
   ],
   "source": [
    "from sklearn.linear_model import LogisticRegression\n",
    "\n",
    "lr = LogisticRegression()\n",
    "lr.fit(train_X, train_y)\n",
    "print_score(lr, train_X, train_y)\n",
    "print_score(lr, test_X, test_y, train=False)"
   ]
  },
  {
   "cell_type": "code",
   "execution_count": 6,
   "metadata": {},
   "outputs": [
    {
     "name": "stdout",
     "output_type": "stream",
     "text": [
      "Training Score:\n",
      "Log Loss: 9.472763431858896\n",
      "Accuracy: 0.7257383966244726\n",
      "Testing Score:\n",
      "Log Loss: 16.513672123577678\n",
      "Accuracy: 0.5218855218855218\n"
     ]
    }
   ],
   "source": [
    "from sklearn.neighbors import KNeighborsClassifier\n",
    "\n",
    "knc = KNeighborsClassifier()\n",
    "knc.fit(train_X, train_y)\n",
    "print_score(knc, train_X, train_y)\n",
    "print_score(knc, test_X, test_y, train=False)"
   ]
  },
  {
   "cell_type": "code",
   "execution_count": 7,
   "metadata": {},
   "outputs": [
    {
     "name": "stdout",
     "output_type": "stream",
     "text": [
      "Training Score:\n",
      "Log Loss: 0.05829329349352112\n",
      "Accuracy: 0.9983122362869198\n",
      "Testing Score:\n",
      "Log Loss: 17.21140633633004\n",
      "Accuracy: 0.5016835016835017\n"
     ]
    }
   ],
   "source": [
    "from sklearn.ensemble import RandomForestClassifier\n",
    "\n",
    "rfc = RandomForestClassifier()\n",
    "rfc.fit(train_X, train_y)\n",
    "print_score(rfc, train_X, train_y)\n",
    "print_score(rfc, test_X, test_y, train=False)"
   ]
  },
  {
   "cell_type": "code",
   "execution_count": 8,
   "metadata": {},
   "outputs": [
    {
     "name": "stdout",
     "output_type": "stream",
     "text": [
      "Training Score:\n",
      "Log Loss: 2.681501622188385\n",
      "Accuracy: 0.9223628691983122\n",
      "Testing Score:\n",
      "Log Loss: 17.095079160702085\n",
      "Accuracy: 0.5050505050505051\n"
     ]
    }
   ],
   "source": [
    "from sklearn import svm\n",
    "\n",
    "svc = svm.SVC()\n",
    "svc.fit(train_X, train_y)\n",
    "print_score(svc, train_X, train_y)\n",
    "print_score(svc, test_X, test_y, train=False)"
   ]
  }
 ],
 "metadata": {
  "kernelspec": {
   "display_name": "Python 3",
   "language": "python",
   "name": "python3"
  },
  "language_info": {
   "codemirror_mode": {
    "name": "ipython",
    "version": 3
   },
   "file_extension": ".py",
   "mimetype": "text/x-python",
   "name": "python",
   "nbconvert_exporter": "python",
   "pygments_lexer": "ipython3",
   "version": "3.8.2"
  }
 },
 "nbformat": 4,
 "nbformat_minor": 4
}
