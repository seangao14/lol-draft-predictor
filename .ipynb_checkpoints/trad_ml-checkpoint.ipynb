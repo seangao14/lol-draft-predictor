{
 "cells": [
  {
   "cell_type": "code",
   "execution_count": 1,
   "metadata": {},
   "outputs": [],
   "source": [
    "import numpy as np\n",
    "from sklearn.model_selection import train_test_split"
   ]
  },
  {
   "cell_type": "code",
   "execution_count": 2,
   "metadata": {},
   "outputs": [],
   "source": [
    "X = np.load('data/games_ar.npy', allow_pickle=True)\n",
    "y = np.load('data/winner.npy', allow_pickle=True)"
   ]
  },
  {
   "cell_type": "code",
   "execution_count": 3,
   "metadata": {},
   "outputs": [],
   "source": [
    "train_X, test_X, train_y, test_y = train_test_split(X, y, test_size=0.1)"
   ]
  },
  {
   "cell_type": "code",
   "execution_count": 4,
   "metadata": {},
   "outputs": [],
   "source": [
    "# traditional machine learning\n",
    "\n",
    "from sklearn.metrics import log_loss\n",
    "from sklearn.metrics import accuracy_score\n",
    "\n",
    "def print_score(clf, X, y, train=True):\n",
    "    pred = clf.predict(X)\n",
    "    print(\"Training Score:\" if train else \"Testing Score:\")\n",
    "    print(f\"Log Loss: {log_loss(y, pred)}\")\n",
    "    print(f\"Accuracy: {accuracy_score(y, pred)}\")"
   ]
  },
  {
   "cell_type": "code",
   "execution_count": 5,
   "metadata": {},
   "outputs": [
    {
     "name": "stdout",
     "output_type": "stream",
     "text": [
      "Training Score:\n",
      "Log Loss: 10.387510759632088\n",
      "Accuracy: 0.6992537313432836\n",
      "Testing Score:\n",
      "Log Loss: 16.921843387593192\n",
      "Accuracy: 0.5100671140939598\n"
     ]
    }
   ],
   "source": [
    "from sklearn.linear_model import LogisticRegression\n",
    "\n",
    "lr = LogisticRegression()\n",
    "lr.fit(train_X, train_y)\n",
    "print_score(lr, train_X, train_y)\n",
    "print_score(lr, test_X, test_y, train=False)"
   ]
  },
  {
   "cell_type": "code",
   "execution_count": 6,
   "metadata": {},
   "outputs": [
    {
     "name": "stdout",
     "output_type": "stream",
     "text": [
      "Training Score:\n",
      "Log Loss: 9.923558240293634\n",
      "Accuracy: 0.7126865671641791\n",
      "Testing Score:\n",
      "Log Loss: 18.080905661109934\n",
      "Accuracy: 0.47651006711409394\n"
     ]
    }
   ],
   "source": [
    "from sklearn.neighbors import KNeighborsClassifier\n",
    "\n",
    "knc = KNeighborsClassifier()\n",
    "knc.fit(train_X, train_y)\n",
    "print_score(knc, train_X, train_y)\n",
    "print_score(knc, test_X, test_y, train=False)"
   ]
  },
  {
   "cell_type": "code",
   "execution_count": 7,
   "metadata": {},
   "outputs": [
    {
     "name": "stdout",
     "output_type": "stream",
     "text": [
      "Training Score:\n",
      "Log Loss: 0.05155041252971843\n",
      "Accuracy: 0.9985074626865672\n",
      "Testing Score:\n",
      "Log Loss: 17.38543502516051\n",
      "Accuracy: 0.4966442953020134\n"
     ]
    }
   ],
   "source": [
    "from sklearn.ensemble import RandomForestClassifier\n",
    "\n",
    "rfc = RandomForestClassifier()\n",
    "rfc.fit(train_X, train_y)\n",
    "print_score(rfc, train_X, train_y)\n",
    "print_score(rfc, test_X, test_y, train=False)"
   ]
  },
  {
   "cell_type": "code",
   "execution_count": 8,
   "metadata": {},
   "outputs": [
    {
     "name": "stdout",
     "output_type": "stream",
     "text": [
      "Training Score:\n",
      "Log Loss: 2.783733614180245\n",
      "Accuracy: 0.9194029850746268\n",
      "Testing Score:\n",
      "Log Loss: 16.921816555464662\n",
      "Accuracy: 0.5100671140939598\n"
     ]
    }
   ],
   "source": [
    "from sklearn import svm\n",
    "\n",
    "svc = svm.SVC()\n",
    "svc.fit(train_X, train_y)\n",
    "print_score(svc, train_X, train_y)\n",
    "print_score(svc, test_X, test_y, train=False)"
   ]
  }
 ],
 "metadata": {
  "kernelspec": {
   "display_name": "Python 3",
   "language": "python",
   "name": "python3"
  },
  "language_info": {
   "codemirror_mode": {
    "name": "ipython",
    "version": 3
   },
   "file_extension": ".py",
   "mimetype": "text/x-python",
   "name": "python",
   "nbconvert_exporter": "python",
   "pygments_lexer": "ipython3",
   "version": "3.8.2"
  }
 },
 "nbformat": 4,
 "nbformat_minor": 4
}
