{
 "cells": [
  {
   "cell_type": "code",
   "execution_count": 1,
   "metadata": {},
   "outputs": [],
   "source": [
    "import torch\n",
    "import torch.nn as nn\n",
    "import torch.nn.functional as F"
   ]
  },
  {
   "cell_type": "code",
   "execution_count": 2,
   "metadata": {},
   "outputs": [],
   "source": [
    "def parse_champs(game):\n",
    "    import pickle\n",
    "    import numpy as np\n",
    "    with open('data/champ_dict.pkl', 'rb') as f:\n",
    "        champ_dict = pickle.load(f)\n",
    "        \n",
    "    picked = []\n",
    "    picked.append([champ_dict[champ] for champ in game])\n",
    "    picked = picked[0]\n",
    "    \n",
    "    five_hot1 = np.zeros((len(champ_dict),), dtype=int)\n",
    "    for j in picked[0:5]:\n",
    "        five_hot1[j] = 1\n",
    "    five_hot2 = np.zeros((len(champ_dict),), dtype=int)\n",
    "    for k in picked[5:10]:\n",
    "        five_hot2[k] = 1\n",
    "    return np.concatenate((five_hot1, five_hot2))"
   ]
  },
  {
   "cell_type": "code",
   "execution_count": 3,
   "metadata": {},
   "outputs": [],
   "source": [
    "features = [\n",
    "    nn.Linear(270, 128),\n",
    "    nn.ReLU(),\n",
    "    nn.Dropout(p=0.2),\n",
    "    nn.Linear(128, 128),\n",
    "    nn.ReLU(),\n",
    "    nn.Dropout(p=0.2),\n",
    "    nn.Linear(128, 2)]\n",
    "\n",
    "def load_model(path):\n",
    "    model = nn.Sequential(*features).cuda()\n",
    "    model.load_state_dict(torch.load(f'models/{path}'))\n",
    "    model.eval()\n",
    "    return model"
   ]
  },
  {
   "cell_type": "code",
   "execution_count": 4,
   "metadata": {},
   "outputs": [],
   "source": [
    "net = load_model('sixty.pth')"
   ]
  },
  {
   "cell_type": "code",
   "execution_count": 5,
   "metadata": {},
   "outputs": [],
   "source": [
    "# returns [blue win probability, red win probability]\n",
    "\n",
    "def custom_test(net_, game):\n",
    "    ten_hot = parse_champs(game)\n",
    "    custom_X = torch.tensor(ten_hot, dtype=torch.float)\n",
    "    \n",
    "    net_.eval()\n",
    "    with torch.no_grad():\n",
    "        output = net_(custom_X.cuda())\n",
    "    net_.train()\n",
    "    \n",
    "    return F.softmax(output)"
   ]
  },
  {
   "cell_type": "code",
   "execution_count": 6,
   "metadata": {
    "scrolled": true
   },
   "outputs": [
    {
     "name": "stderr",
     "output_type": "stream",
     "text": [
      "<ipython-input-5-84e7400dbd4b>:12: UserWarning: Implicit dimension choice for softmax has been deprecated. Change the call to include dim=X as an argument.\n",
      "  return F.softmax(output)\n"
     ]
    },
    {
     "data": {
      "text/plain": [
       "tensor([0.2621, 0.7379], device='cuda:0')"
      ]
     },
     "execution_count": 6,
     "metadata": {},
     "output_type": "execute_result"
    }
   ],
   "source": [
    "custom_test(net, ['Renekton', 'Lee Sin', 'Syndra', 'Draven', 'Blitzcrank', 'Ornn', 'Nidalee', 'Orianna', 'Ashe', 'Sett']) # expected red win\n",
    "# sinner comp loses :)"
   ]
  },
  {
   "cell_type": "code",
   "execution_count": 7,
   "metadata": {},
   "outputs": [
    {
     "name": "stderr",
     "output_type": "stream",
     "text": [
      "<ipython-input-5-84e7400dbd4b>:12: UserWarning: Implicit dimension choice for softmax has been deprecated. Change the call to include dim=X as an argument.\n",
      "  return F.softmax(output)\n"
     ]
    },
    {
     "data": {
      "text/plain": [
       "tensor([0.4471, 0.5529], device='cuda:0')"
      ]
     },
     "execution_count": 7,
     "metadata": {},
     "output_type": "execute_result"
    }
   ],
   "source": [
    "custom_test(net, ['Jayce',\"Kha'Zix\",'LeBlanc','Caitlyn','Brand','Ornn','Sett','Cassiopeia','Senna','Pantheon']) # expected red win"
   ]
  }
 ],
 "metadata": {
  "kernelspec": {
   "display_name": "Python 3",
   "language": "python",
   "name": "python3"
  },
  "language_info": {
   "codemirror_mode": {
    "name": "ipython",
    "version": 3
   },
   "file_extension": ".py",
   "mimetype": "text/x-python",
   "name": "python",
   "nbconvert_exporter": "python",
   "pygments_lexer": "ipython3",
   "version": "3.8.2"
  }
 },
 "nbformat": 4,
 "nbformat_minor": 4
}
