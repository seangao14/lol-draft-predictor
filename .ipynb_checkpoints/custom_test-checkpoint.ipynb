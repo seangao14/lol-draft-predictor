{
 "cells": [
  {
   "cell_type": "code",
   "execution_count": 1,
   "metadata": {},
   "outputs": [],
   "source": [
    "import torch\n",
    "import torch.nn as nn\n",
    "import torch.nn.functional as F\n",
    "from features import exp_features as features"
   ]
  },
  {
   "cell_type": "code",
   "execution_count": 2,
   "metadata": {},
   "outputs": [],
   "source": [
    "def parse_champs(game):\n",
    "    import pickle\n",
    "    import numpy as np\n",
    "    with open('data/champ_dict.pkl', 'rb') as f:\n",
    "        champ_dict = pickle.load(f)\n",
    "        \n",
    "    picked = []\n",
    "    picked.append([champ_dict[champ] for champ in game])\n",
    "    picked = picked[0]\n",
    "    \n",
    "    five_hot1 = np.zeros((len(champ_dict),), dtype=int)\n",
    "    for j in picked[0:5]:\n",
    "        five_hot1[j] = 1\n",
    "    five_hot2 = np.zeros((len(champ_dict),), dtype=int)\n",
    "    for k in picked[5:10]:\n",
    "        five_hot2[k] = 1\n",
    "    return np.concatenate((five_hot1, five_hot2))"
   ]
  },
  {
   "cell_type": "code",
   "execution_count": 3,
   "metadata": {},
   "outputs": [],
   "source": [
    "def load_model(path):\n",
    "    model = nn.Sequential(*features).cuda()\n",
    "    model.load_state_dict(torch.load(f'models/{path}'))\n",
    "    model.eval()\n",
    "    return model"
   ]
  },
  {
   "cell_type": "code",
   "execution_count": 4,
   "metadata": {},
   "outputs": [],
   "source": [
    "# returns [blue win probability, red win probability]\n",
    "\n",
    "def custom_test(game,model='quarter_finals.pth'):\n",
    "    net = load_model(model)\n",
    "    ten_hot = parse_champs(game)\n",
    "    custom_X = torch.tensor(ten_hot, dtype=torch.float)\n",
    "    \n",
    "    net.eval()\n",
    "    with torch.no_grad():\n",
    "        output = net(custom_X.cuda())\n",
    "    \n",
    "    return F.softmax(output, dim=-1)"
   ]
  },
  {
   "cell_type": "code",
   "execution_count": 5,
   "metadata": {
    "scrolled": true
   },
   "outputs": [
    {
     "data": {
      "text/plain": [
       "tensor([0.1286, 0.8714], device='cuda:0')"
      ]
     },
     "execution_count": 5,
     "metadata": {},
     "output_type": "execute_result"
    }
   ],
   "source": [
    "custom_test(['Renekton', 'Lee Sin', 'Syndra', 'Draven', 'Blitzcrank', 'Ornn', 'Nidalee', 'Orianna', 'Ashe', 'Sett']) # expected red win\n",
    "# sinner comp loses :)"
   ]
  },
  {
   "cell_type": "code",
   "execution_count": 6,
   "metadata": {},
   "outputs": [
    {
     "name": "stdout",
     "output_type": "stream",
     "text": [
      "Game 1--- Winner: 0, Confidence: 0.6561621427536011\n",
      "Game 2--- Winner: 1, Confidence: 0.6850408315658569\n",
      "Game 3--- Winner: 1, Confidence: 0.5544666051864624\n"
     ]
    }
   ],
   "source": [
    "# WORLDS 2020 PREDICTIONS:\n",
    "\n",
    "# GAME 1 DWG (0) VS DRX (1)\n",
    "game1 = custom_test(game=['Graves','Jhin','Syndra','Kennen','Leona','Lulu','Orianna','Caitlyn','Kindred','Jayce'])\n",
    "print(f\"Game 1--- Winner: {torch.argmax(game1)}, Confidence: {game1[torch.argmax(game1)]}\")\n",
    "# GAME 2 DRX (0) VS DWG (1)\n",
    "game2 = custom_test(game=['Nidalee','Galio','Senna','Tahm Kench','Jax','Graves','Twisted Fate','Ornn','Thresh','Aphelios'])\n",
    "print(f\"Game 2--- Winner: {torch.argmax(game2)}, Confidence: {game2[torch.argmax(game2)]}\")\n",
    "# GAME 3 DRX (0) VS DWG (1)\n",
    "game3 = custom_test(game=['Graves','Vladimir','Senna',\"Vel'Koz\",'Braum','Pantheon','Orianna','Kindred','Ornn','Ashe'])\n",
    "print(f\"Game 3--- Winner: {torch.argmax(game3)}, Confidence: {game3[torch.argmax(game3)]}\")"
   ]
  },
  {
   "cell_type": "code",
   "execution_count": 7,
   "metadata": {},
   "outputs": [
    {
     "name": "stdout",
     "output_type": "stream",
     "text": [
      "Game 1--- Winner: 1, Confidence: 0.7484733462333679\n",
      "Game 2--- Winner: 1, Confidence: 0.6318655610084534\n"
     ]
    }
   ],
   "source": [
    "# JDG VS SN\n",
    "# GAME 1 SN (0) VS JDG (1)\n",
    "game1 = custom_test(game=['Graves','Bard','Gangplank','Galio','Miss Fortune','Jhin','Lillia','Renekton','Zoe','Leona'])\n",
    "print(f\"Game 1--- Winner: {torch.argmax(game1)}, Confidence: {game1[torch.argmax(game1)]}\")\n",
    "# GAME 2 SN (0) VS JDG (1)\n",
    "game2 = custom_test(game=['Gangplank','Graves','Zoe','Jhin','Leona','Renekton','Lillia','Galio','Miss Fortune','Sett'])\n",
    "print(f\"Game 2--- Winner: {torch.argmax(game2)}, Confidence: {game2[torch.argmax(game2)]}\")"
   ]
  },
  {
   "cell_type": "code",
   "execution_count": 13,
   "metadata": {},
   "outputs": [
    {
     "name": "stdout",
     "output_type": "stream",
     "text": [
      "Game 1--- Winner: 1, Confidence: 0.7848002910614014\n",
      "Game 2--- Winner: 1, Confidence: 0.643733561038971\n",
      "Game 3--- Winner: 1, Confidence: 0.9451642632484436\n",
      "Game 4--- Winner: 0, Confidence: 0.6017402410507202\n",
      "Game 4--- Winner: 0, Confidence: 0.944544792175293\n"
     ]
    }
   ],
   "source": [
    "# GAME 1 TES(0) VS FNC (1)\n",
    "game1 = custom_test(game=['Ornn','Graves','Zoe','Ezreal','Leona','Singed','Kindred','Galio','Senna','Rakan'])\n",
    "print(f\"Game 1--- Winner: {torch.argmax(game1)}, Confidence: {game1[torch.argmax(game1)]}\")\n",
    "# GAME 2 TES (0) VS FNC (1) \n",
    "game2 = custom_test(game=['Gangplank','Jarvan IV','Sylas','Senna','Tahm Kench','Ornn','Kindred','Orianna','Ashe','Braum'])\n",
    "print(f\"Game 2--- Winner: {torch.argmax(game2)}, Confidence: {game2[torch.argmax(game2)]}\")\n",
    "# GAME 3 TES (0) VS FNC (1)\n",
    "game3 = custom_test(game=['Orianna','Sion','Ezreal','Lee Sin','Karma','Ornn',\"Vel'Koz\",'Rakan','Jhin',\"Kha'Zix\"])\n",
    "print(f\"Game 3--- Winner: {torch.argmax(game3)}, Confidence: {game3[torch.argmax(game3)]}\")\n",
    "# GAME 4 FNC (0) VS TES (1)\n",
    "game4 = custom_test(game=['Ornn','Graves','Galio','Ashe','Sett','Sion','Nidalee','Jayce','Senna','Tahm Kench'])\n",
    "print(f\"Game 4--- Winner: {torch.argmax(game4)}, Confidence: {game4[torch.argmax(game4)]}\")\n",
    "# GAME 5 FNC (0) VS TES (1)\n",
    "game4 = custom_test(game=['Senna','Gangplank','Rakan','Twisted Fate','Gragas','Leona','Sylas','Lee Sin','Ezreal','Vladimir'])\n",
    "print(f\"Game 4--- Winner: {torch.argmax(game4)}, Confidence: {game4[torch.argmax(game4)]}\")"
   ]
  }
 ],
 "metadata": {
  "kernelspec": {
   "display_name": "Python 3",
   "language": "python",
   "name": "python3"
  },
  "language_info": {
   "codemirror_mode": {
    "name": "ipython",
    "version": 3
   },
   "file_extension": ".py",
   "mimetype": "text/x-python",
   "name": "python",
   "nbconvert_exporter": "python",
   "pygments_lexer": "ipython3",
   "version": "3.8.2"
  }
 },
 "nbformat": 4,
 "nbformat_minor": 4
}
