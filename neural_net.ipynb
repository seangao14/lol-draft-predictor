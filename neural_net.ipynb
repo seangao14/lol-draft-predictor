{
 "cells": [
  {
   "cell_type": "code",
   "execution_count": 1,
   "metadata": {},
   "outputs": [],
   "source": [
    "import numpy as np\n",
    "from tqdm import tqdm\n",
    "\n",
    "import torch\n",
    "import torch.nn as nn\n",
    "import torch.nn.functional as F\n",
    "import torch.optim as optim\n",
    "\n",
    "from sklearn.model_selection import train_test_split"
   ]
  },
  {
   "cell_type": "code",
   "execution_count": 2,
   "metadata": {},
   "outputs": [],
   "source": [
    "X = np.load('data/games_ar.npy', allow_pickle=True)\n",
    "y = np.load('data/winner.npy', allow_pickle=True)"
   ]
  },
  {
   "cell_type": "code",
   "execution_count": 3,
   "metadata": {},
   "outputs": [],
   "source": [
    "train_X, test_X, train_y, test_y = train_test_split(X, y, test_size=0.1)"
   ]
  },
  {
   "cell_type": "code",
   "execution_count": 4,
   "metadata": {},
   "outputs": [],
   "source": [
    "train_X = torch.tensor(train_X, dtype=torch.float)\n",
    "train_y = torch.tensor(train_y, dtype=torch.long)\n",
    "test_X = torch.tensor(test_X, dtype=torch.float)\n",
    "test_y = torch.tensor(test_y, dtype=torch.long)"
   ]
  },
  {
   "cell_type": "code",
   "execution_count": 5,
   "metadata": {},
   "outputs": [],
   "source": [
    "features = [nn.Linear(train_X.shape[1], 256),\n",
    "    nn.ReLU(),\n",
    "    nn.Dropout(p=0.2),\n",
    "    nn.Linear(256, 256),\n",
    "    nn.ReLU(),\n",
    "    nn.Dropout(p=0.2),\n",
    "    nn.Linear(256,2)]"
   ]
  },
  {
   "cell_type": "code",
   "execution_count": 6,
   "metadata": {},
   "outputs": [],
   "source": [
    "net = nn.Sequential(*features).cuda()"
   ]
  },
  {
   "cell_type": "code",
   "execution_count": 7,
   "metadata": {},
   "outputs": [],
   "source": [
    "optimizer = optim.Adam(net.parameters(), lr=0.001)\n",
    "loss_fn = nn.CrossEntropyLoss()"
   ]
  },
  {
   "cell_type": "code",
   "execution_count": 8,
   "metadata": {},
   "outputs": [],
   "source": [
    "def train(net, X, y, EPOCHS=8, BATCH_SIZE=100):\n",
    "    for epoch in range(EPOCHS):\n",
    "        for i in tqdm(range(0, len(X), BATCH_SIZE)):\n",
    "            batch_X = X[i:i+BATCH_SIZE].cuda()\n",
    "            batch_y = y[i:i+BATCH_SIZE].cuda()\n",
    "            \n",
    "            net.zero_grad()\n",
    "            output = net(batch_X)\n",
    "            loss = loss_fn(output, batch_y)\n",
    "            loss.backward()\n",
    "            optimizer.step()\n",
    "        print(loss)"
   ]
  },
  {
   "cell_type": "code",
   "execution_count": 9,
   "metadata": {},
   "outputs": [
    {
     "name": "stderr",
     "output_type": "stream",
     "text": [
      "100%|██████████████████████████████████████████████████████████████████████████████████| 14/14 [00:00<00:00, 41.85it/s]\n",
      "100%|█████████████████████████████████████████████████████████████████████████████████| 14/14 [00:00<00:00, 448.02it/s]\n",
      "100%|█████████████████████████████████████████████████████████████████████████████████| 14/14 [00:00<00:00, 448.00it/s]\n",
      "100%|█████████████████████████████████████████████████████████████████████████████████| 14/14 [00:00<00:00, 434.42it/s]\n",
      "100%|█████████████████████████████████████████████████████████████████████████████████| 14/14 [00:00<00:00, 447.98it/s]\n",
      "100%|█████████████████████████████████████████████████████████████████████████████████| 14/14 [00:00<00:00, 478.07it/s]\n"
     ]
    },
    {
     "name": "stdout",
     "output_type": "stream",
     "text": [
      "tensor(0.7160, device='cuda:0', grad_fn=<NllLossBackward>)\n",
      "tensor(0.6811, device='cuda:0', grad_fn=<NllLossBackward>)\n",
      "tensor(0.6071, device='cuda:0', grad_fn=<NllLossBackward>)\n",
      "tensor(0.4677, device='cuda:0', grad_fn=<NllLossBackward>)\n",
      "tensor(0.3295, device='cuda:0', grad_fn=<NllLossBackward>)\n",
      "tensor(0.2019, device='cuda:0', grad_fn=<NllLossBackward>)"
     ]
    },
    {
     "name": "stderr",
     "output_type": "stream",
     "text": [
      "100%|█████████████████████████████████████████████████████████████████████████████████| 14/14 [00:00<00:00, 421.64it/s]\n",
      "100%|█████████████████████████████████████████████████████████████████████████████████| 14/14 [00:00<00:00, 462.46it/s]"
     ]
    },
    {
     "name": "stdout",
     "output_type": "stream",
     "text": [
      "\n",
      "tensor(0.0902, device='cuda:0', grad_fn=<NllLossBackward>)\n",
      "tensor(0.0322, device='cuda:0', grad_fn=<NllLossBackward>)\n"
     ]
    },
    {
     "name": "stderr",
     "output_type": "stream",
     "text": [
      "\n"
     ]
    }
   ],
   "source": [
    "train(net, train_X, train_y)"
   ]
  },
  {
   "cell_type": "code",
   "execution_count": 10,
   "metadata": {},
   "outputs": [],
   "source": [
    "def test(net, X, y):\n",
    "    correct = 0\n",
    "    total = 0\n",
    "    net.eval()\n",
    "    with torch.no_grad():\n",
    "        output = net(X.cuda())\n",
    "        for idx, i in enumerate(output):\n",
    "            if torch.argmax(i) == y[idx]:\n",
    "                correct += 1\n",
    "            total += 1\n",
    "    net.train()\n",
    "    return round(correct/total,3)"
   ]
  },
  {
   "cell_type": "code",
   "execution_count": 11,
   "metadata": {},
   "outputs": [
    {
     "name": "stdout",
     "output_type": "stream",
     "text": [
      "Train accuracy: 0.992\n",
      "Test accuracy: 0.591\n"
     ]
    }
   ],
   "source": [
    "print(f\"Train accuracy: {test(net, train_X, train_y)}\")\n",
    "print(f\"Test accuracy: {test(net, test_X, test_y)}\")"
   ]
  },
  {
   "cell_type": "code",
   "execution_count": 12,
   "metadata": {},
   "outputs": [
    {
     "data": {
      "text/plain": [
       "149"
      ]
     },
     "execution_count": 12,
     "metadata": {},
     "output_type": "execute_result"
    }
   ],
   "source": [
    "# overfitted but 60% over 150 games is significantly better than guessing\n",
    "test_X.shape[0]"
   ]
  },
  {
   "cell_type": "code",
   "execution_count": 13,
   "metadata": {},
   "outputs": [],
   "source": [
    "def save_model():\n",
    "    torch.save(net.state_dict(), 'models/sixty.pth')"
   ]
  },
  {
   "cell_type": "code",
   "execution_count": 14,
   "metadata": {},
   "outputs": [],
   "source": [
    "def load_model():\n",
    "    model = nn.Sequential(*features).cuda()\n",
    "    model.load_state_dict(torch.load('models/sixty.pth'))\n",
    "    model.eval()\n",
    "    return model"
   ]
  },
  {
   "cell_type": "code",
   "execution_count": 15,
   "metadata": {},
   "outputs": [],
   "source": [
    "save_model()"
   ]
  }
 ],
 "metadata": {
  "kernelspec": {
   "display_name": "Python 3",
   "language": "python",
   "name": "python3"
  },
  "language_info": {
   "codemirror_mode": {
    "name": "ipython",
    "version": 3
   },
   "file_extension": ".py",
   "mimetype": "text/x-python",
   "name": "python",
   "nbconvert_exporter": "python",
   "pygments_lexer": "ipython3",
   "version": "3.8.2"
  }
 },
 "nbformat": 4,
 "nbformat_minor": 4
}
