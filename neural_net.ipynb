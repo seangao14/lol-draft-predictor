{
 "cells": [
  {
   "cell_type": "code",
   "execution_count": 48,
   "metadata": {},
   "outputs": [],
   "source": [
    "import numpy as np\n",
    "from tqdm import tqdm\n",
    "\n",
    "import torch\n",
    "import torch.nn as nn\n",
    "import torch.nn.functional as F\n",
    "import torch.optim as optim\n",
    "\n",
    "from sklearn.model_selection import train_test_split\n",
    "from "
   ]
  },
  {
   "cell_type": "code",
   "execution_count": 2,
   "metadata": {},
   "outputs": [],
   "source": [
    "X = np.load('data/games_ar.npy', allow_pickle=True)\n",
    "y = np.load('data/winner.npy', allow_pickle=True)"
   ]
  },
  {
   "cell_type": "code",
   "execution_count": 56,
   "metadata": {},
   "outputs": [],
   "source": [
    "def train(net, X, y, EPOCHS=8, BATCH_SIZE=100):\n",
    "    for epoch in range(EPOCHS):\n",
    "        for i in tqdm(range(0, len(X), BATCH_SIZE)):\n",
    "            batch_X = X[i:i+BATCH_SIZE].cuda()\n",
    "            batch_y = y[i:i+BATCH_SIZE].cuda()\n",
    "            \n",
    "            net.zero_grad()\n",
    "            output = net(batch_X)\n",
    "            loss = loss_fn(output, batch_y)\n",
    "            loss.backward()\n",
    "            optimizer.step()\n",
    "        \n",
    "        print(loss)"
   ]
  },
  {
   "cell_type": "code",
   "execution_count": 4,
   "metadata": {},
   "outputs": [],
   "source": [
    "def test(net, X, y):\n",
    "    correct = 0\n",
    "    total = 0\n",
    "    net.eval()\n",
    "    with torch.no_grad():\n",
    "        output = net(X.cuda())\n",
    "        for idx, i in enumerate(output):\n",
    "            if torch.argmax(i) == y[idx]:\n",
    "                correct += 1\n",
    "            total += 1\n",
    "    net.train()\n",
    "    return round(correct/total,3)"
   ]
  },
  {
   "cell_type": "code",
   "execution_count": 38,
   "metadata": {},
   "outputs": [],
   "source": [
    "train_X, test_X, train_y, test_y = train_test_split(X, y, test_size=0.1)\n",
    "\n",
    "train_X = torch.tensor(train_X, dtype=torch.float)\n",
    "train_y = torch.tensor(train_y, dtype=torch.long)\n",
    "test_X = torch.tensor(test_X, dtype=torch.float)\n",
    "test_y = torch.tensor(test_y, dtype=torch.long)"
   ]
  },
  {
   "cell_type": "code",
   "execution_count": 60,
   "metadata": {},
   "outputs": [
    {
     "name": "stderr",
     "output_type": "stream",
     "text": [
      "100%|█████████████████████████████████████████████████████████████████████████████████| 14/14 [00:00<00:00, 477.87it/s]\n",
      "100%|█████████████████████████████████████████████████████████████████████████████████| 14/14 [00:00<00:00, 494.25it/s]\n",
      "100%|█████████████████████████████████████████████████████████████████████████████████| 14/14 [00:00<00:00, 530.95it/s]\n",
      "100%|█████████████████████████████████████████████████████████████████████████████████| 14/14 [00:00<00:00, 511.99it/s]\n",
      "100%|█████████████████████████████████████████████████████████████████████████████████| 14/14 [00:00<00:00, 511.99it/s]\n",
      "100%|█████████████████████████████████████████████████████████████████████████████████| 14/14 [00:00<00:00, 511.99it/s]\n",
      "  0%|                                                                                           | 0/14 [00:00<?, ?it/s]"
     ]
    },
    {
     "name": "stdout",
     "output_type": "stream",
     "text": [
      "tensor(0.7028, device='cuda:0', grad_fn=<NllLossBackward>)\n",
      "tensor(0.6943, device='cuda:0', grad_fn=<NllLossBackward>)\n",
      "tensor(0.6684, device='cuda:0', grad_fn=<NllLossBackward>)\n",
      "tensor(0.6086, device='cuda:0', grad_fn=<NllLossBackward>)\n",
      "tensor(0.5230, device='cuda:0', grad_fn=<NllLossBackward>)\n",
      "tensor(0.3824, device='cuda:0', grad_fn=<NllLossBackward>)\n"
     ]
    },
    {
     "name": "stderr",
     "output_type": "stream",
     "text": [
      "100%|█████████████████████████████████████████████████████████████████████████████████| 14/14 [00:00<00:00, 494.71it/s]\n",
      "100%|█████████████████████████████████████████████████████████████████████████████████| 14/14 [00:00<00:00, 494.35it/s]\n"
     ]
    },
    {
     "name": "stdout",
     "output_type": "stream",
     "text": [
      "tensor(0.2605, device='cuda:0', grad_fn=<NllLossBackward>)\n",
      "tensor(0.1896, device='cuda:0', grad_fn=<NllLossBackward>)\n",
      "Train accuracy: 0.875\n",
      "Test accuracy: 0.591\n"
     ]
    }
   ],
   "source": [
    "features = [\n",
    "    nn.Linear(train_X.shape[1], 128),\n",
    "    nn.ReLU(),\n",
    "    nn.Dropout(p=0.2),\n",
    "    nn.Linear(128, 128),\n",
    "    nn.ReLU(),\n",
    "    nn.Dropout(p=0.2),\n",
    "    nn.Linear(128, 2)]\n",
    "\n",
    "net = nn.Sequential(*features).cuda()\n",
    "\n",
    "optimizer = optim.Adam(net.parameters(), lr=0.001)\n",
    "loss_fn = nn.CrossEntropyLoss()\n",
    "train(net, train_X, train_y)\n",
    "print(f\"Train accuracy: {test(net, train_X, train_y)}\")\n",
    "print(f\"Test accuracy: {test(net, test_X, test_y)}\")"
   ]
  },
  {
   "cell_type": "code",
   "execution_count": 8,
   "metadata": {},
   "outputs": [
    {
     "data": {
      "text/plain": [
       "149"
      ]
     },
     "execution_count": 8,
     "metadata": {},
     "output_type": "execute_result"
    }
   ],
   "source": [
    "# overfitted but 60% over 150 games is significantly better than guessing\n",
    "test_X.shape[0]"
   ]
  },
  {
   "cell_type": "code",
   "execution_count": 62,
   "metadata": {},
   "outputs": [],
   "source": [
    "def save_model(path):\n",
    "    torch.save(net.state_dict(), f'models/{path}')\n",
    "    print(f\"Model saved to 'models/{path}'!\")"
   ]
  },
  {
   "cell_type": "code",
   "execution_count": 10,
   "metadata": {},
   "outputs": [],
   "source": [
    "def load_model(path):\n",
    "    model = nn.Sequential(*features).cuda()\n",
    "    model.load_state_dict(torch.load(f'models/{path}'))\n",
    "    model.eval()\n",
    "    return model"
   ]
  },
  {
   "cell_type": "code",
   "execution_count": 63,
   "metadata": {},
   "outputs": [
    {
     "name": "stdout",
     "output_type": "stream",
     "text": [
      "Model saved to 'models/sixty.pth'!\n"
     ]
    }
   ],
   "source": [
    "# save_model('sixty.pth')"
   ]
  },
  {
   "cell_type": "code",
   "execution_count": 82,
   "metadata": {},
   "outputs": [],
   "source": [
    "def parse_champs(game):\n",
    "    import pickle\n",
    "    import numpy as np\n",
    "    with open('data/champ_dict.pkl', 'rb') as f:\n",
    "        champ_dict = pickle.load(f)\n",
    "        \n",
    "    picked = []\n",
    "    picked.append([champ_dict[champ] for champ in game])\n",
    "    picked = picked[0]\n",
    "    \n",
    "    five_hot1 = np.zeros((len(champ_dict),), dtype=int)\n",
    "    for j in picked[0:5]:\n",
    "        five_hot1[j] = 1\n",
    "    five_hot2 = np.zeros((len(champ_dict),), dtype=int)\n",
    "    for k in picked[5:10]:\n",
    "        five_hot2[k] = 1\n",
    "    return np.concatenate((five_hot1, five_hot2))"
   ]
  },
  {
   "cell_type": "code",
   "execution_count": 89,
   "metadata": {},
   "outputs": [],
   "source": [
    "def custom_test(net, game):\n",
    "    ten_hot = parse_champs(game)\n",
    "    custom_X = torch.tensor(ten_hot, dtype=torch.float)\n",
    "    net.eval()\n",
    "    with torch.no_grad():\n",
    "        output = net(custom_X.to(device='cuda'))\n",
    "    net.train()\n",
    "    \n",
    "    return torch.argmax(output)"
   ]
  },
  {
   "cell_type": "code",
   "execution_count": 91,
   "metadata": {},
   "outputs": [
    {
     "ename": "RuntimeError",
     "evalue": "CUDA error: an illegal memory access was encountered",
     "output_type": "error",
     "traceback": [
      "\u001b[1;31m---------------------------------------------------------------------------\u001b[0m",
      "\u001b[1;31mRuntimeError\u001b[0m                              Traceback (most recent call last)",
      "\u001b[1;32m<ipython-input-91-097854a8a4fc>\u001b[0m in \u001b[0;36m<module>\u001b[1;34m\u001b[0m\n\u001b[1;32m----> 1\u001b[1;33m \u001b[0mcustom_test\u001b[0m\u001b[1;33m(\u001b[0m\u001b[0mnet\u001b[0m\u001b[1;33m,\u001b[0m \u001b[1;33m[\u001b[0m\u001b[1;34m'Renekton'\u001b[0m\u001b[1;33m,\u001b[0m \u001b[1;34m'Lee Sin'\u001b[0m\u001b[1;33m,\u001b[0m \u001b[1;34m'Syndra'\u001b[0m\u001b[1;33m,\u001b[0m \u001b[1;34m'Draven'\u001b[0m\u001b[1;33m,\u001b[0m \u001b[1;34m'Blitzcrank'\u001b[0m\u001b[1;33m,\u001b[0m \u001b[1;34m'Ornn'\u001b[0m\u001b[1;33m,\u001b[0m \u001b[1;34m'Nidalee'\u001b[0m\u001b[1;33m,\u001b[0m \u001b[1;34m'Orianna'\u001b[0m\u001b[1;33m,\u001b[0m \u001b[1;34m'Ashe'\u001b[0m\u001b[1;33m,\u001b[0m \u001b[1;34m'Sett'\u001b[0m\u001b[1;33m]\u001b[0m\u001b[1;33m)\u001b[0m\u001b[1;33m\u001b[0m\u001b[1;33m\u001b[0m\u001b[0m\n\u001b[0m",
      "\u001b[1;32m<ipython-input-89-72f1996f5806>\u001b[0m in \u001b[0;36mcustom_test\u001b[1;34m(net, game)\u001b[0m\n\u001b[0;32m      4\u001b[0m     \u001b[0mnet\u001b[0m\u001b[1;33m.\u001b[0m\u001b[0meval\u001b[0m\u001b[1;33m(\u001b[0m\u001b[1;33m)\u001b[0m\u001b[1;33m\u001b[0m\u001b[1;33m\u001b[0m\u001b[0m\n\u001b[0;32m      5\u001b[0m     \u001b[1;32mwith\u001b[0m \u001b[0mtorch\u001b[0m\u001b[1;33m.\u001b[0m\u001b[0mno_grad\u001b[0m\u001b[1;33m(\u001b[0m\u001b[1;33m)\u001b[0m\u001b[1;33m:\u001b[0m\u001b[1;33m\u001b[0m\u001b[1;33m\u001b[0m\u001b[0m\n\u001b[1;32m----> 6\u001b[1;33m         \u001b[0moutput\u001b[0m \u001b[1;33m=\u001b[0m \u001b[0mnet\u001b[0m\u001b[1;33m(\u001b[0m\u001b[0mcustom_X\u001b[0m\u001b[1;33m.\u001b[0m\u001b[0mto\u001b[0m\u001b[1;33m(\u001b[0m\u001b[0mdevice\u001b[0m\u001b[1;33m=\u001b[0m\u001b[1;34m'cuda'\u001b[0m\u001b[1;33m)\u001b[0m\u001b[1;33m)\u001b[0m\u001b[1;33m\u001b[0m\u001b[1;33m\u001b[0m\u001b[0m\n\u001b[0m\u001b[0;32m      7\u001b[0m     \u001b[0mnet\u001b[0m\u001b[1;33m.\u001b[0m\u001b[0mtrain\u001b[0m\u001b[1;33m(\u001b[0m\u001b[1;33m)\u001b[0m\u001b[1;33m\u001b[0m\u001b[1;33m\u001b[0m\u001b[0m\n\u001b[0;32m      8\u001b[0m \u001b[1;33m\u001b[0m\u001b[0m\n",
      "\u001b[1;31mRuntimeError\u001b[0m: CUDA error: an illegal memory access was encountered"
     ]
    }
   ],
   "source": [
    "# TODO: fix cuda error\n",
    "custom_test(net, ['Renekton', 'Lee Sin', 'Syndra', 'Draven', 'Blitzcrank', 'Ornn', 'Nidalee', 'Orianna', 'Ashe', 'Sett'])"
   ]
  }
 ],
 "metadata": {
  "kernelspec": {
   "display_name": "Python 3",
   "language": "python",
   "name": "python3"
  },
  "language_info": {
   "codemirror_mode": {
    "name": "ipython",
    "version": 3
   },
   "file_extension": ".py",
   "mimetype": "text/x-python",
   "name": "python",
   "nbconvert_exporter": "python",
   "pygments_lexer": "ipython3",
   "version": "3.8.2"
  }
 },
 "nbformat": 4,
 "nbformat_minor": 4
}
