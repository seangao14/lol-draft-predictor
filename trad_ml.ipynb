{
 "cells": [
  {
   "cell_type": "code",
   "execution_count": 1,
   "metadata": {},
   "outputs": [],
   "source": [
    "import numpy as np\n",
    "from sklearn.model_selection import train_test_split"
   ]
  },
  {
   "cell_type": "code",
   "execution_count": 2,
   "metadata": {},
   "outputs": [],
   "source": [
    "X = np.load('data/games_ar.npy', allow_pickle=True)\n",
    "y = np.load('data/winner.npy', allow_pickle=True)"
   ]
  },
  {
   "cell_type": "code",
   "execution_count": 3,
   "metadata": {},
   "outputs": [],
   "source": [
    "train_X, test_X, train_y, test_y = train_test_split(X, y, test_size=0.1)"
   ]
  },
  {
   "cell_type": "code",
   "execution_count": 4,
   "metadata": {},
   "outputs": [],
   "source": [
    "# traditional machine learning\n",
    "\n",
    "from sklearn.metrics import log_loss\n",
    "from sklearn.metrics import accuracy_score\n",
    "\n",
    "def print_score(clf, X, y, train=True):\n",
    "    pred = clf.predict(X)\n",
    "    print(\"Training Score:\" if train else \"Testing Score:\")\n",
    "    print(f\"Log Loss: {log_loss(y, pred)}\")\n",
    "    print(f\"Accuracy: {accuracy_score(y, pred)}\")"
   ]
  },
  {
   "cell_type": "code",
   "execution_count": 5,
   "metadata": {},
   "outputs": [
    {
     "name": "stdout",
     "output_type": "stream",
     "text": [
      "Training Score:\n",
      "Log Loss: 10.571609828274015\n",
      "Accuracy: 0.6939234808702176\n",
      "Testing Score:\n",
      "Log Loss: 15.530982612079931\n",
      "Accuracy: 0.5503355704697986\n"
     ]
    }
   ],
   "source": [
    "from sklearn.linear_model import LogisticRegression\n",
    "\n",
    "lr = LogisticRegression()\n",
    "lr.fit(train_X, train_y)\n",
    "print_score(lr, train_X, train_y)\n",
    "print_score(lr, test_X, test_y, train=False)"
   ]
  },
  {
   "cell_type": "code",
   "execution_count": 6,
   "metadata": {},
   "outputs": [
    {
     "name": "stdout",
     "output_type": "stream",
     "text": [
      "Training Score:\n",
      "Log Loss: 9.638835669052348\n",
      "Accuracy: 0.7209302325581395\n",
      "Testing Score:\n",
      "Log Loss: 14.835592472516101\n",
      "Accuracy: 0.5704697986577181\n"
     ]
    }
   ],
   "source": [
    "from sklearn.neighbors import KNeighborsClassifier\n",
    "\n",
    "knc = KNeighborsClassifier()\n",
    "knc.fit(train_X, train_y)\n",
    "print_score(knc, train_X, train_y)\n",
    "print_score(knc, test_X, test_y, train=False)"
   ]
  },
  {
   "cell_type": "code",
   "execution_count": 7,
   "metadata": {},
   "outputs": [
    {
     "name": "stdout",
     "output_type": "stream",
     "text": [
      "Training Score:\n",
      "Log Loss: 0.05182171972036976\n",
      "Accuracy: 0.9984996249062266\n",
      "Testing Score:\n",
      "Log Loss: 16.458181986491695\n",
      "Accuracy: 0.5234899328859061\n"
     ]
    }
   ],
   "source": [
    "from sklearn.ensemble import RandomForestClassifier\n",
    "\n",
    "rfc = RandomForestClassifier()\n",
    "rfc.fit(train_X, train_y)\n",
    "print_score(rfc, train_X, train_y)\n",
    "print_score(rfc, test_X, test_y, train=False)"
   ]
  },
  {
   "cell_type": "code",
   "execution_count": 8,
   "metadata": {},
   "outputs": [
    {
     "name": "stdout",
     "output_type": "stream",
     "text": [
      "Training Score:\n",
      "Log Loss: 2.7983476712824586\n",
      "Accuracy: 0.918979744936234\n",
      "Testing Score:\n",
      "Log Loss: 16.458165887214573\n",
      "Accuracy: 0.5234899328859061\n"
     ]
    }
   ],
   "source": [
    "from sklearn import svm\n",
    "\n",
    "svc = svm.SVC()\n",
    "svc.fit(train_X, train_y)\n",
    "print_score(svc, train_X, train_y)\n",
    "print_score(svc, test_X, test_y, train=False)"
   ]
  }
 ],
 "metadata": {
  "kernelspec": {
   "display_name": "Python 3",
   "language": "python",
   "name": "python3"
  },
  "language_info": {
   "codemirror_mode": {
    "name": "ipython",
    "version": 3
   },
   "file_extension": ".py",
   "mimetype": "text/x-python",
   "name": "python",
   "nbconvert_exporter": "python",
   "pygments_lexer": "ipython3",
   "version": "3.8.2"
  }
 },
 "nbformat": 4,
 "nbformat_minor": 4
}
