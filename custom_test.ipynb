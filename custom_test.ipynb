{
 "cells": [
  {
   "cell_type": "code",
   "execution_count": 1,
   "metadata": {},
   "outputs": [],
   "source": [
    "import torch\n",
    "import torch.nn as nn\n",
    "import torch.nn.functional as F\n",
    "from features import exp_features as features\n",
    "\n",
    "from helper import parse_champs, load_model, custom_test"
   ]
  },
  {
   "cell_type": "code",
   "execution_count": 2,
   "metadata": {
    "scrolled": true
   },
   "outputs": [
    {
     "output_type": "execute_result",
     "data": {
      "text/plain": [
       "tensor([0.1286, 0.8714])"
      ]
     },
     "metadata": {},
     "execution_count": 2
    }
   ],
   "source": [
    "custom_test(['Renekton', 'Lee Sin', 'Syndra', 'Draven', 'Blitzcrank', 'Ornn', 'Nidalee', 'Orianna', 'Ashe', 'Sett']) # expected red win\n",
    "# sinner comp loses :)"
   ]
  },
  {
   "cell_type": "code",
   "execution_count": 3,
   "metadata": {},
   "outputs": [
    {
     "output_type": "stream",
     "name": "stdout",
     "text": [
      "Game 1--- Winner: 0, Confidence: 0.6561621427536011\nGame 2--- Winner: 1, Confidence: 0.6850408315658569\nGame 3--- Winner: 1, Confidence: 0.5544666051864624\n"
     ]
    }
   ],
   "source": [
    "# WORLDS 2020 PREDICTIONS:\n",
    "\n",
    "# GAME 1 DWG (0) VS DRX (1)\n",
    "game1 = custom_test(game=['Graves','Jhin','Syndra','Kennen','Leona','Lulu','Orianna','Caitlyn','Kindred','Jayce'])\n",
    "print(f\"Game 1--- Winner: {torch.argmax(game1)}, Confidence: {game1[torch.argmax(game1)]}\")\n",
    "# GAME 2 DRX (0) VS DWG (1)\n",
    "game2 = custom_test(game=['Nidalee','Galio','Senna','Tahm Kench','Jax','Graves','Twisted Fate','Ornn','Thresh','Aphelios'])\n",
    "print(f\"Game 2--- Winner: {torch.argmax(game2)}, Confidence: {game2[torch.argmax(game2)]}\")\n",
    "# GAME 3 DRX (0) VS DWG (1)\n",
    "game3 = custom_test(game=['Graves','Vladimir','Senna',\"Vel'Koz\",'Braum','Pantheon','Orianna','Kindred','Ornn','Ashe'])\n",
    "print(f\"Game 3--- Winner: {torch.argmax(game3)}, Confidence: {game3[torch.argmax(game3)]}\")"
   ]
  },
  {
   "cell_type": "code",
   "execution_count": 4,
   "metadata": {},
   "outputs": [
    {
     "output_type": "stream",
     "name": "stdout",
     "text": [
      "Game 1--- Winner: 1, Confidence: 0.7484733462333679\nGame 2--- Winner: 1, Confidence: 0.6318655610084534\nGame 3--- Winner: 1, Confidence: 0.7680820226669312\nGame 4--- Winner: 1, Confidence: 0.683355987071991\n"
     ]
    }
   ],
   "source": [
    "# JDG VS SN\n",
    "# GAME 1 SN (0) VS JDG (1)\n",
    "game1 = custom_test(game=['Graves','Bard','Gangplank','Galio','Miss Fortune','Jhin','Lillia','Renekton','Zoe','Leona'])\n",
    "print(f\"Game 1--- Winner: {torch.argmax(game1)}, Confidence: {game1[torch.argmax(game1)]}\")\n",
    "# GAME 2 SN (0) VS JDG (1)\n",
    "game2 = custom_test(game=['Gangplank','Graves','Zoe','Jhin','Leona','Renekton','Lillia','Galio','Miss Fortune','Sett'])\n",
    "print(f\"Game 2--- Winner: {torch.argmax(game2)}, Confidence: {game2[torch.argmax(game2)]}\")\n",
    "# GAME 3 JDG (0) VS SN (1)\n",
    "game3 = custom_test(game=['Volibear','Lillia','Twisted Fate','Ezreal','Pantheon','Gangplank','Kindred','Galio','Jhin','Bard'])\n",
    "print(f\"Game 3--- Winner: {torch.argmax(game3)}, Confidence: {game3[torch.argmax(game3)]}\")\n",
    "# GAME 2 JDG (0) VS SN (1)\n",
    "game4 = custom_test(game=['Renekton','Graves','Twisted Fate','Ashe','Blitzcrank','Volibear','Kindred','Zoe','Jhin','Thresh'])\n",
    "print(f\"Game 4--- Winner: {torch.argmax(game4)}, Confidence: {game4[torch.argmax(game4)]}\")\n"
   ]
  },
  {
   "cell_type": "code",
   "execution_count": 5,
   "metadata": {},
   "outputs": [
    {
     "output_type": "stream",
     "name": "stdout",
     "text": [
      "Game 1--- Winner: 1, Confidence: 0.7848002314567566\nGame 2--- Winner: 1, Confidence: 0.643733561038971\nGame 3--- Winner: 1, Confidence: 0.9451642632484436\nGame 4--- Winner: 0, Confidence: 0.6017402410507202\nGame 5--- Winner: 0, Confidence: 0.944544792175293\n"
     ]
    }
   ],
   "source": [
    "# TES VS FNC\n",
    "# GAME 1 TES(0) VS FNC (1)\n",
    "game1 = custom_test(game=['Ornn','Graves','Zoe','Ezreal','Leona','Singed','Kindred','Galio','Senna','Rakan'])\n",
    "print(f\"Game 1--- Winner: {torch.argmax(game1)}, Confidence: {game1[torch.argmax(game1)]}\")\n",
    "# GAME 2 TES (0) VS FNC (1) \n",
    "game2 = custom_test(game=['Gangplank','Jarvan IV','Sylas','Senna','Tahm Kench','Ornn','Kindred','Orianna','Ashe','Braum'])\n",
    "print(f\"Game 2--- Winner: {torch.argmax(game2)}, Confidence: {game2[torch.argmax(game2)]}\")\n",
    "# GAME 3 TES (0) VS FNC (1)\n",
    "game3 = custom_test(game=['Orianna','Sion','Ezreal','Lee Sin','Karma','Ornn',\"Vel'Koz\",'Rakan','Jhin',\"Kha'Zix\"])\n",
    "print(f\"Game 3--- Winner: {torch.argmax(game3)}, Confidence: {game3[torch.argmax(game3)]}\")\n",
    "# GAME 4 FNC (0) VS TES (1)\n",
    "game4 = custom_test(game=['Ornn','Graves','Galio','Ashe','Sett','Sion','Nidalee','Jayce','Senna','Tahm Kench'])\n",
    "print(f\"Game 4--- Winner: {torch.argmax(game4)}, Confidence: {game4[torch.argmax(game4)]}\")\n",
    "# GAME 5 FNC (0) VS TES (1)\n",
    "game5 = custom_test(game=['Senna','Gangplank','Rakan','Twisted Fate','Gragas','Leona','Sylas','Lee Sin','Ezreal','Vladimir'])\n",
    "print(f\"Game 5--- Winner: {torch.argmax(game5)}, Confidence: {game5[torch.argmax(game5)]}\")"
   ]
  },
  {
   "cell_type": "code",
   "execution_count": 6,
   "metadata": {},
   "outputs": [
    {
     "output_type": "stream",
     "name": "stdout",
     "text": [
      "Game 1--- Winner: 1, Confidence: 0.5805167555809021\nGame 2--- Winner: 0, Confidence: 0.9141991138458252\nGame 3--- Winner: 1, Confidence: 0.7605836987495422\n"
     ]
    }
   ],
   "source": [
    "# GEN G VS G2\n",
    "# GAME 1 GG (0) VS G2 (1)\n",
    "game1 = custom_test(game=['Lillia','Volibear','Kalista','Taric','Azir','Pantheon','Twisted Fate','Lucian','Nidalee','Camille','Jhin'])\n",
    "print(f\"Game 1--- Winner: {torch.argmax(game1)}, Confidence: {game1[torch.argmax(game1)]}\")\n",
    "# GAME 2 GG (0) VS G2 (1)\n",
    "game2 = custom_test(game=['Camille','Nidalee','Twisted Fate','Ashe','Leona','Shen','Lillia','Sylas','Jhin','Tahm Kench'])\n",
    "print(f\"Game 2--- Winner: {torch.argmax(game2)}, Confidence: {game2[torch.argmax(game2)]}\")\n",
    "# GAME 3 G2 (0) VS GG (1)\n",
    "game3 = custom_test(game=['Renekton','Graves','Sylas','Jhin','Rakan','Volibear','Kindred','Twisted Fate','Ezreal','Tahm Kench'])\n",
    "print(f\"Game 3--- Winner: {torch.argmax(game3)}, Confidence: {game3[torch.argmax(game3)]}\")"
   ]
  }
 ],
 "metadata": {
  "kernelspec": {
   "display_name": "Python 3",
   "language": "python",
   "name": "python3"
  },
  "language_info": {
   "codemirror_mode": {
    "name": "ipython",
    "version": 3
   },
   "file_extension": ".py",
   "mimetype": "text/x-python",
   "name": "python",
   "nbconvert_exporter": "python",
   "pygments_lexer": "ipython3",
   "version": "3.8.2-final"
  }
 },
 "nbformat": 4,
 "nbformat_minor": 4
}