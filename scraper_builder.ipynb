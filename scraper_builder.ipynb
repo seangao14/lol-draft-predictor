{
 "cells": [
  {
   "cell_type": "code",
   "execution_count": 1,
   "metadata": {},
   "outputs": [],
   "source": [
    "import bs4 as bs\n",
    "import requests\n",
    "import numpy as np\n",
    "from tqdm import tqdm"
   ]
  },
  {
   "cell_type": "code",
   "execution_count": 2,
   "metadata": {},
   "outputs": [],
   "source": [
    "# values used to create url links\n",
    "\n",
    "REGIONS = ['LCS', 'LEC', 'LCK', 'LPL']\n",
    "SERIES = ['Spring_Season', 'Spring_Playoffs', 'Summer_Season', 'Summer_Playoffs']"
   ]
  },
  {
   "cell_type": "code",
   "execution_count": 3,
   "metadata": {},
   "outputs": [
    {
     "name": "stdout",
     "output_type": "stream",
     "text": [
      "['https://lol.gamepedia.com/LCS/2020_Season/Spring_Season/Match_History', 'https://lol.gamepedia.com/LCS/2020_Season/Spring_Playoffs/Match_History', 'https://lol.gamepedia.com/LCS/2020_Season/Summer_Season/Match_History', 'https://lol.gamepedia.com/LCS/2020_Season/Summer_Playoffs/Match_History', 'https://lol.gamepedia.com/LEC/2020_Season/Spring_Season/Match_History', 'https://lol.gamepedia.com/LEC/2020_Season/Spring_Playoffs/Match_History', 'https://lol.gamepedia.com/LEC/2020_Season/Summer_Season/Match_History', 'https://lol.gamepedia.com/LEC/2020_Season/Summer_Playoffs/Match_History', 'https://lol.gamepedia.com/LCK/2020_Season/Spring_Season/Match_History', 'https://lol.gamepedia.com/LCK/2020_Season/Spring_Playoffs/Match_History', 'https://lol.gamepedia.com/LCK/2020_Season/Summer_Season/Match_History', 'https://lol.gamepedia.com/LCK/2020_Season/Summer_Playoffs/Match_History', 'https://lol.gamepedia.com/LPL/2020_Season/Spring_Season/Match_History', 'https://lol.gamepedia.com/LPL/2020_Season/Spring_Playoffs/Match_History', 'https://lol.gamepedia.com/LPL/2020_Season/Summer_Season/Match_History', 'https://lol.gamepedia.com/LPL/2020_Season/Summer_Playoffs/Match_History', 'https://lol.gamepedia.com/2020_Season_World_Championship/Play-In/Match_History', 'https://lol.gamepedia.com/2020_Season_World_Championship/Main_Event/Match_History']\n"
     ]
    }
   ],
   "source": [
    "# example url:\n",
    "# https://lol.gamepedia.com/LCS/2020_Season/Spring_Playoffs/Match_History\n",
    "\n",
    "URL = []\n",
    "for region in REGIONS:\n",
    "    for series in SERIES:\n",
    "        URL.append(f\"https://lol.gamepedia.com/{region}/2020_Season/{series}/Match_History\")\n",
    "# worlds data\n",
    "URL.append('https://lol.gamepedia.com/2020_Season_World_Championship/Play-In/Match_History')\n",
    "URL.append('https://lol.gamepedia.com/2020_Season_World_Championship/Main_Event/Match_History')\n",
    "\n",
    "print(URL)"
   ]
  },
  {
   "cell_type": "code",
   "execution_count": 4,
   "metadata": {},
   "outputs": [],
   "source": [
    "champions = []\n",
    "teams = []\n",
    "for url in URL:\n",
    "    sauce = requests.get(url)\n",
    "    soup = bs.BeautifulSoup(sauce.text)\n",
    "    \n",
    "    for span in soup.find_all('span', class_='sprite champion-sprite'):\n",
    "        champions.append(span.get('title'))\n",
    "    # print(champions)\n",
    "    \n",
    "    for td in soup.find_all('td', class_='mhgame-result'):\n",
    "        children = td.findChildren('a')\n",
    "        for child in children:\n",
    "            teams.append(child.get('href'))"
   ]
  },
  {
   "cell_type": "code",
   "execution_count": 5,
   "metadata": {},
   "outputs": [
    {
     "name": "stdout",
     "output_type": "stream",
     "text": [
      "[['Aatrox', 'Lee Sin', 'Malzahar', 'Aphelios', 'Braum', 'Sett', 'Sejuani', 'Zoe', 'Varus', 'Thresh'], ['Sett', 'Jarvan IV', 'Zoe', 'Varus', 'Braum', 'Renekton', 'Pantheon', 'Viktor', 'Ashe', 'Tahm Kench'], ['Sett', 'Sejuani', 'Syndra', 'Lucian', 'Braum', 'Aatrox', 'Pantheon', 'Orianna', 'Miss Fortune', 'Yuumi'], ['Aatrox', 'Pantheon', 'Orianna', 'Aphelios', 'Nautilus', 'Sett', 'Sejuani', 'Zoe', 'Miss Fortune', 'Leona'], ['Aatrox', 'Sejuani', 'Syndra', 'Aphelios', 'Tahm Kench', 'Camille', 'Pantheon', 'Ekko', 'Varus', 'Braum'], ['Aatrox', 'Elise', 'Ornn', 'Ashe', 'Braum', 'Renekton', 'Olaf', 'Rumble', 'Varus', 'Tahm Kench'], ['Sett', 'Pantheon', 'Ryze', 'Aphelios', 'Braum', 'Aatrox', 'Jarvan IV', 'Viktor', 'Varus', 'Rakan'], ['Ornn', 'Lee Sin', 'Viktor', 'Aphelios', 'Tahm Kench', 'Sett', 'Sejuani', 'Azir', 'Ezreal', 'Yuumi'], ['Ornn', \"Rek'Sai\", 'Zoe', 'Aphelios', 'Nautilus', 'Renekton', 'Trundle', 'Viktor', 'Miss Fortune', 'Alistar'], ['Ornn', 'Pantheon', 'Syndra', 'Ezreal', 'Tahm Kench', 'Mordekaiser', 'Olaf', 'Orianna', 'Aphelios', 'Nautilus']]\n"
     ]
    }
   ],
   "source": [
    "picked_ = []\n",
    "\n",
    "# champions are in sets of 10s, alternating bans and picks\n",
    "# first 10 are bans, next 10 are picks, etc. we only care about the picks\n",
    "for i in range(int(len(champions)/10)):\n",
    "    if i%2==0:\n",
    "        continue\n",
    "    else:\n",
    "        picked_.append(champions[i*10:i*10+10])\n",
    "        \n",
    "print(picked_[:10])"
   ]
  },
  {
   "cell_type": "code",
   "execution_count": 6,
   "metadata": {},
   "outputs": [
    {
     "name": "stdout",
     "output_type": "stream",
     "text": [
      "[0, 0, 0, 0, 0, 1, 0, 0, 0, 1]\n"
     ]
    }
   ],
   "source": [
    "winner = []\n",
    "\n",
    "# 0 for blue win, 1 for red win\n",
    "for i in range(int(len(teams)/4)):\n",
    "    sub = teams[i*4:i*4+4]\n",
    "    if sub[3] == sub[1]: # blue win\n",
    "        winner.append(0)\n",
    "    else:\n",
    "        winner.append(1)\n",
    "\n",
    "print(winner[:10])"
   ]
  },
  {
   "cell_type": "code",
   "execution_count": 7,
   "metadata": {},
   "outputs": [
    {
     "name": "stdout",
     "output_type": "stream",
     "text": [
      "{'Aatrox': 0, 'Ahri': 1, 'Akali': 2, 'Alistar': 3, 'Anivia': 4, 'Annie': 5, 'Aphelios': 6, 'Ashe': 7, 'Aurelion Sol': 8, 'Azir': 9, 'Bard': 10, 'Blitzcrank': 11, 'Brand': 12, 'Braum': 13, 'Caitlyn': 14, 'Camille': 15, 'Cassiopeia': 16, \"Cho'Gath\": 17, 'Corki': 18, 'Darius': 19, 'Diana': 20, 'Dr. Mundo': 21, 'Draven': 22, 'Ekko': 23, 'Elise': 24, 'Evelynn': 25, 'Ezreal': 26, 'Fiddlesticks': 27, 'Fiora': 28, 'Galio': 29, 'Gangplank': 30, 'Gnar': 31, 'Gragas': 32, 'Graves': 33, 'Hecarim': 34, 'Heimerdinger': 35, 'Illaoi': 36, 'Irelia': 37, 'Ivern': 38, 'Janna': 39, 'Jarvan IV': 40, 'Jax': 41, 'Jayce': 42, 'Jhin': 43, 'Jinx': 44, \"Kai'Sa\": 45, 'Kalista': 46, 'Karma': 47, 'Karthus': 48, 'Kassadin': 49, 'Kayle': 50, 'Kayn': 51, 'Kennen': 52, \"Kha'Zix\": 53, 'Kindred': 54, 'Kled': 55, \"Kog'Maw\": 56, 'LeBlanc': 57, 'Lee Sin': 58, 'Leona': 59, 'Lillia': 60, 'Lissandra': 61, 'Lucian': 62, 'Lulu': 63, 'Lux': 64, 'Malphite': 65, 'Malzahar': 66, 'Maokai': 67, 'Miss Fortune': 68, 'Mordekaiser': 69, 'Morgana': 70, 'Nami': 71, 'Nautilus': 72, 'Neeko': 73, 'Nidalee': 74, 'Nocturne': 75, 'Olaf': 76, 'Orianna': 77, 'Ornn': 78, 'Pantheon': 79, 'Poppy': 80, 'Pyke': 81, 'Qiyana': 82, 'Quinn': 83, 'Rakan': 84, \"Rek'Sai\": 85, 'Renekton': 86, 'Rengar': 87, 'Riven': 88, 'Rumble': 89, 'Ryze': 90, 'Sejuani': 91, 'Senna': 92, 'Sett': 93, 'Shen': 94, 'Shyvana': 95, 'Singed': 96, 'Sion': 97, 'Sivir': 98, 'Skarner': 99, 'Sona': 100, 'Soraka': 101, 'Swain': 102, 'Sylas': 103, 'Syndra': 104, 'Tahm Kench': 105, 'Taliyah': 106, 'Talon': 107, 'Taric': 108, 'Teemo': 109, 'Thresh': 110, 'Tristana': 111, 'Trundle': 112, 'Tryndamere': 113, 'Twisted Fate': 114, 'Twitch': 115, 'Urgot': 116, 'Varus': 117, 'Vayne': 118, 'Veigar': 119, \"Vel'Koz\": 120, 'Viktor': 121, 'Vladimir': 122, 'Volibear': 123, 'Wukong': 124, 'Xayah': 125, 'Xin Zhao': 126, 'Yasuo': 127, 'Yuumi': 128, 'Zac': 129, 'Zed': 130, 'Ziggs': 131, 'Zilean': 132, 'Zoe': 133, 'Zyra': 134}\n",
      "[[0, 58, 66, 6, 13, 93, 91, 133, 117, 110], [93, 40, 133, 117, 13, 86, 79, 121, 7, 105], [93, 91, 104, 62, 13, 0, 79, 77, 68, 128], [0, 79, 77, 6, 72, 93, 91, 133, 68, 59], [0, 91, 104, 6, 105, 15, 79, 23, 117, 13], [0, 24, 78, 7, 13, 86, 76, 89, 117, 105], [93, 79, 90, 6, 13, 0, 40, 121, 117, 84], [78, 58, 121, 6, 105, 93, 91, 9, 26, 128], [78, 85, 133, 6, 72, 86, 112, 121, 68, 3], [78, 79, 104, 26, 105, 69, 76, 77, 6, 72]]\n"
     ]
    }
   ],
   "source": [
    "# parsing champ data into numbers\n",
    "\n",
    "champ_dict = dict((champ, idx) for idx, champ in enumerate(np.unique(picked_)))\n",
    "print(champ_dict)\n",
    "\n",
    "picked = []\n",
    "for game in picked_:\n",
    "    picked.append([champ_dict[champ] for champ in game])\n",
    "    \n",
    "print(picked[:10])"
   ]
  },
  {
   "cell_type": "code",
   "execution_count": 8,
   "metadata": {},
   "outputs": [
    {
     "name": "stdout",
     "output_type": "stream",
     "text": [
      "[array([1, 0, 0, 0, 0, 0, 1, 0, 0, 0, 0, 0, 0, 1, 0, 0, 0, 0, 0, 0, 0, 0,\n",
      "       0, 0, 0, 0, 0, 0, 0, 0, 0, 0, 0, 0, 0, 0, 0, 0, 0, 0, 0, 0, 0, 0,\n",
      "       0, 0, 0, 0, 0, 0, 0, 0, 0, 0, 0, 0, 0, 0, 1, 0, 0, 0, 0, 0, 0, 0,\n",
      "       1, 0, 0, 0, 0, 0, 0, 0, 0, 0, 0, 0, 0, 0, 0, 0, 0, 0, 0, 0, 0, 0,\n",
      "       0, 0, 0, 0, 0, 0, 0, 0, 0, 0, 0, 0, 0, 0, 0, 0, 0, 0, 0, 0, 0, 0,\n",
      "       0, 0, 0, 0, 0, 0, 0, 0, 0, 0, 0, 0, 0, 0, 0, 0, 0, 0, 0, 0, 0, 0,\n",
      "       0, 0, 0, 0, 0, 0, 0, 0, 0, 0, 0, 0, 0, 0, 0, 0, 0, 0, 0, 0, 0, 0,\n",
      "       0, 0, 0, 0, 0, 0, 0, 0, 0, 0, 0, 0, 0, 0, 0, 0, 0, 0, 0, 0, 0, 0,\n",
      "       0, 0, 0, 0, 0, 0, 0, 0, 0, 0, 0, 0, 0, 0, 0, 0, 0, 0, 0, 0, 0, 0,\n",
      "       0, 0, 0, 0, 0, 0, 0, 0, 0, 0, 0, 0, 0, 0, 0, 0, 0, 0, 0, 0, 0, 0,\n",
      "       0, 0, 0, 0, 0, 0, 1, 0, 1, 0, 0, 0, 0, 0, 0, 0, 0, 0, 0, 0, 0, 0,\n",
      "       0, 0, 0, 1, 0, 0, 0, 0, 0, 0, 1, 0, 0, 0, 0, 0, 0, 0, 0, 0, 0, 0,\n",
      "       0, 0, 0, 0, 1, 0]), array([0, 0, 0, 0, 0, 0, 0, 0, 0, 0, 0, 0, 0, 1, 0, 0, 0, 0, 0, 0, 0, 0,\n",
      "       0, 0, 0, 0, 0, 0, 0, 0, 0, 0, 0, 0, 0, 0, 0, 0, 0, 0, 1, 0, 0, 0,\n",
      "       0, 0, 0, 0, 0, 0, 0, 0, 0, 0, 0, 0, 0, 0, 0, 0, 0, 0, 0, 0, 0, 0,\n",
      "       0, 0, 0, 0, 0, 0, 0, 0, 0, 0, 0, 0, 0, 0, 0, 0, 0, 0, 0, 0, 0, 0,\n",
      "       0, 0, 0, 0, 0, 1, 0, 0, 0, 0, 0, 0, 0, 0, 0, 0, 0, 0, 0, 0, 0, 0,\n",
      "       0, 0, 0, 0, 0, 0, 0, 1, 0, 0, 0, 0, 0, 0, 0, 0, 0, 0, 0, 0, 0, 0,\n",
      "       0, 1, 0, 0, 0, 0, 0, 0, 0, 0, 1, 0, 0, 0, 0, 0, 0, 0, 0, 0, 0, 0,\n",
      "       0, 0, 0, 0, 0, 0, 0, 0, 0, 0, 0, 0, 0, 0, 0, 0, 0, 0, 0, 0, 0, 0,\n",
      "       0, 0, 0, 0, 0, 0, 0, 0, 0, 0, 0, 0, 0, 0, 0, 0, 0, 0, 0, 0, 0, 0,\n",
      "       0, 0, 0, 0, 0, 0, 0, 0, 0, 0, 0, 0, 0, 0, 0, 0, 1, 0, 0, 0, 0, 0,\n",
      "       0, 1, 0, 0, 0, 0, 0, 0, 0, 0, 0, 0, 0, 0, 0, 0, 0, 0, 0, 0, 1, 0,\n",
      "       0, 0, 0, 0, 0, 0, 0, 0, 0, 0, 0, 0, 0, 0, 1, 0, 0, 0, 0, 0, 0, 0,\n",
      "       0, 0, 0, 0, 0, 0])]\n"
     ]
    }
   ],
   "source": [
    "games_ar = []\n",
    "for game in picked:\n",
    "    five_hot1 = np.zeros((len(np.unique(picked_)),), dtype=int)\n",
    "    for j in game[0:5]:\n",
    "        five_hot1[j] = 1\n",
    "    five_hot2 = np.zeros((len(np.unique(picked_)),), dtype=int)\n",
    "    for j in game[5:10]:\n",
    "        five_hot2[j] = 1\n",
    "    games_ar.append(np.concatenate((five_hot1, five_hot2)))\n",
    "    \n",
    "print(games_ar[:2])"
   ]
  },
  {
   "cell_type": "code",
   "execution_count": 9,
   "metadata": {},
   "outputs": [],
   "source": [
    "games_ar = np.array(games_ar)\n",
    "winner = np.array(winner)\n",
    "\n",
    "np.save('games_ar.npy', games_ar)\n",
    "np.save('winner.npy', winner)"
   ]
  }
 ],
 "metadata": {
  "kernelspec": {
   "display_name": "Python 3",
   "language": "python",
   "name": "python3"
  },
  "language_info": {
   "codemirror_mode": {
    "name": "ipython",
    "version": 3
   },
   "file_extension": ".py",
   "mimetype": "text/x-python",
   "name": "python",
   "nbconvert_exporter": "python",
   "pygments_lexer": "ipython3",
   "version": "3.8.2"
  }
 },
 "nbformat": 4,
 "nbformat_minor": 4
}
